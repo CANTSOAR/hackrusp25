{
 "cells": [
  {
   "cell_type": "code",
   "execution_count": 33,
   "metadata": {},
   "outputs": [],
   "source": [
    "import pandas as pd\n",
    "import json\n",
    "\n",
    "with open(\"subject_data.json\", \"r\") as file:\n",
    "    data = json.load(file)"
   ]
  },
  {
   "cell_type": "code",
   "execution_count": 34,
   "metadata": {},
   "outputs": [],
   "source": [
    "df = pd.DataFrame(data, dtype = str)"
   ]
  },
  {
   "cell_type": "code",
   "execution_count": 35,
   "metadata": {},
   "outputs": [],
   "source": [
    "df.to_csv(\"subjects.csv\")"
   ]
  },
  {
   "cell_type": "code",
   "execution_count": 21,
   "metadata": {},
   "outputs": [],
   "source": [
    "from bs4 import BeautifulSoup\n",
    "import requests\n",
    "import time\n",
    "from selenium import webdriver"
   ]
  },
  {
   "cell_type": "code",
   "execution_count": 25,
   "metadata": {},
   "outputs": [],
   "source": [
    "driver = webdriver.Chrome()\n",
    "page = driver.get(\"https://classes.rutgers.edu/soc/#courses?subject=640&semester=12025&campus=NB&level=U\")\n",
    "time.sleep(2)\n",
    "html = driver.page_source\n",
    "\n",
    "soup = BeautifulSoup(html, \"html.parser\")\n",
    "driver.quit()"
   ]
  },
  {
   "cell_type": "code",
   "execution_count": 27,
   "metadata": {},
   "outputs": [
    {
     "name": "stdout",
     "output_type": "stream",
     "text": [
      " 01:640:001COMPUTATIONAL SKILLS1.5 creditsSections: 1 / 1PrereqsSynopsis\n",
      " 01:640:025ELEMENTARY ALGEBRA3 creditsSections: 5 / 5PrereqsSynopsis\n",
      " 01:640:026INTERMEDIATE ALGEBRA3 creditsSections: 6 / 13PrereqsSynopsis\n",
      " 01:640:103TOPICS IN MATHEMATICS FOR THE LIBERAL ARTS3 creditsSections: 5 / 6PrereqsSynopsis\n",
      " 01:640:104INTRODUCTION TO PROBABILITY3 creditsSections: 1 / 1PrereqsSynopsis\n",
      " 01:640:106MATHEMATICS OF MONEY3 creditsSections: 5 / 6PrereqsSynopsis\n",
      " 01:640:107NUMBER AND OPERATION FOR K-8 TEACHING3 creditsSections: 0 / 1PrereqsSynopsis\n",
      " 01:640:109GEOMETRY AND MEASUREMENT FOR MIDDLE     GRADES TEACHING3 creditsSections: 1 / 1PrereqsSynopsis\n",
      " 01:640:111PRECALCULUS PART I2 creditsSections: 12 / 22PrereqsSynopsis\n",
      " 01:640:112PRECALCULUS PART II2 creditsSections: 22 / 28PrereqsSynopsis\n",
      " 01:640:115PRECALCULUS COLLEGE MATHEMATICS4 creditsSections: 15 / 20PrereqsSynopsis\n",
      " 01:640:125METHODS OF MATHEMATICAL PROBLEM         SOLVING2 creditsSections: 1 / 1PrereqsSynopsis\n",
      " 01:640:130BUSINESS CALCULUS3 creditsSections: 3 / 10PrereqsSynopsis\n",
      " 01:640:135CALCULUS I FOR THE LIFE AND SOCIAL SCIENCES4 creditsSections: 12 / 24PrereqsSynopsis\n",
      " 01:640:151CALCULUS I FOR MATHEMATICAL AND PHYSICALSCIENCES4 creditsSections: 8 / 23PrereqsSynopsis\n",
      " 01:640:152CALCULUS II FOR MATHEMATICAL AND PHYSICAL SCIENCES4 creditsSections: 5 / 45PrereqsSynopsis\n",
      " 01:640:157CALC I MAT/PHY PRAC1 creditSections: 2 / 2PrereqsSynopsis\n",
      " 01:640:158CALC II MAT/PHY PRAC1 creditSections: 2 / 3PrereqsSynopsis\n",
      " 01:640:196SEM IN MATHEMATIC II1 creditSections: 1 / 1PrereqsSynopsis\n",
      " 01:640:244DIFFERENTIAL EQUATIONS FOR ENGINEERING  AND PHYSICS4 creditsSections: 4 / 30PrereqsSynopsis\n",
      " 01:640:250INTRO LINEAR ALGEBRA3 creditsSections: 4 / 14PrereqsSynopsis\n",
      " 01:640:251MULTIVARIABLE CALCULUS4 creditsSections: 2 / 21PrereqsSynopsis\n",
      " 01:640:252ELEMENTARY DIFFERENTIAL EQUATIONS3 creditsSections: 1 / 2PrereqsSynopsis\n",
      " 01:640:285INTRODUCTION TO INTEREST THEORY FOR ACTUARIAL SCIENCE3 creditsSections: 1 / 1PrereqsSynopsis\n",
      " 01:640:292HONORS CALCULUS IV4 creditsSections: 1 / 2PrereqsSynopsis\n",
      " 01:640:300INTRO MATH REASONING3 creditsSections: 6 / 11PrereqsSynopsis\n",
      " 01:640:311INTRODUCTION TO REAL ANALYSIS I4 creditsSections: 2 / 4PrereqsSynopsis\n",
      " 01:640:312INTRODUCTION TO REAL ANALYSIS II3 creditsSections: 1 / 1PrereqsSynopsis\n",
      " 01:640:338DISC & PROB MODELS BIO3 creditsSections: 0 / 1PrereqsSynopsis\n",
      " 01:640:348CRYPTOGRAPHY3 creditsSections: 0 / 2PrereqsSynopsis\n",
      " 01:640:350LINEAR ALGEBRA3 creditsSections: 4 / 5PrereqsSynopsis\n",
      " 01:640:351INTRODUCTION TO ABSTRACT ALGEBRA I4 creditsSections: 2 / 2PrereqsSynopsis\n",
      " 01:640:354LINEAR OPTIMIZATION3 creditsSections: 2 / 5PrereqsSynopsis\n",
      " 01:640:356THEORY OF NUMBERS3 creditsSections: 1 / 1PrereqsSynopsis\n",
      " 01:640:357TOPICS APPLIED ALGEB3 creditsSections: 1 / 1PrereqsSynopsis\n",
      " 01:640:373NUMERICAL ANALYSIS I3 creditsSections: 1 / 1PrereqsSynopsis\n",
      " 01:640:403INTRO COMPLEX VAR3 creditsSections: 1 / 1PrereqsSynopsis\n",
      " 01:640:412MATH ANALYSIS II3 creditsSections: 1 / 1PrereqsSynopsis\n",
      " 01:640:421ADVANCED CALCULUS FOR ENGINEERING3 creditsSections: 0 / 3PrereqsSynopsis\n",
      " 01:640:423ELEM PRTL DIFF EQTNS3 creditsSections: 1 / 1PrereqsSynopsis\n",
      " 01:640:428GRAPH THEORY3 creditsSections: 0 / 2PrereqsSynopsis\n",
      " 01:640:432INTRO DIFF GEOMETRY3 creditsSections: 1 / 1PrereqsSynopsis\n",
      " 01:640:437HISTORY OF MATHEMATICS3 creditsSections: 0 / 2PrereqsSynopsis\n",
      " 01:640:442INTRO TOPOLOGY II3 creditsSections: 1 / 1PrereqsSynopsis\n",
      " 01:640:452ABSTRACT ALGEBRA II3 creditsSections: 0 / 1PrereqsSynopsis\n",
      " 01:640:461MATH LOGIC3 creditsSections: 1 / 1PrereqsSynopsis\n",
      " 01:640:477MATHEMATICAL THEORY OF PROBABILITY3 creditsSections: 0 / 4PrereqsSynopsis\n",
      " 01:640:478INTRODUCTION TO STOCHASTIC PROCESSES3 creditsSections: 1 / 1PrereqsSynopsis\n",
      " 01:640:481MATH THEORY STAT3 creditsSections: 1 / 1PrereqsSynopsis\n",
      " 01:640:487MATHEMATICS OF LIFE CONTINGENT RISK MODELS II3 creditsSections: 1 / 1PrereqsSynopsis\n",
      " 01:640:488MATHEMATICS OF SHORT-TERM RISK MODELS3 creditsSections: 0 / 1PrereqsSynopsis\n",
      " 01:640:489COMPUTATIONAL FINANCE3 creditsSections: 0 / 1PrereqsSynopsis\n",
      " 01:640:492MATH SEMINAR1 creditSections: 1 / 1PrereqsSynopsis\n",
      " 01:640:494INDEP STUDY IN MATHCredits by arrangementSections: 2 / 2PrereqsSynopsis\n",
      " 01:640:495SEL TOPICS IN MATH3 creditsSections: 2 / 2PrereqsSynopsis\n",
      " 01:640:496RESEARCH IN MATH3 creditsSections: 1 / 1PrereqsSynopsis\n",
      " 01:640:498HONORS IN MATH3 creditsSections: 1 / 1PrereqsSynopsis\n"
     ]
    }
   ],
   "source": [
    "all_info = soup.find_all(class_ = \"courseInfo\")\n",
    "\n",
    "for info in all_info:\n",
    "    print(info.text)"
   ]
  }
 ],
 "metadata": {
  "kernelspec": {
   "display_name": "base",
   "language": "python",
   "name": "python3"
  },
  "language_info": {
   "codemirror_mode": {
    "name": "ipython",
    "version": 3
   },
   "file_extension": ".py",
   "mimetype": "text/x-python",
   "name": "python",
   "nbconvert_exporter": "python",
   "pygments_lexer": "ipython3",
   "version": "3.9.19"
  }
 },
 "nbformat": 4,
 "nbformat_minor": 2
}
