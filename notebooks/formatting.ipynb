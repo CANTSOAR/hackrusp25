{
 "cells": [
  {
   "cell_type": "code",
   "execution_count": 33,
   "metadata": {},
   "outputs": [],
   "source": [
    "import pandas as pd\n",
    "import json\n",
    "\n",
    "with open(\"subject_data.json\", \"r\") as file:\n",
    "    data = json.load(file)"
   ]
  },
  {
   "cell_type": "code",
   "execution_count": 34,
   "metadata": {},
   "outputs": [],
   "source": [
    "df = pd.DataFrame(data, dtype = str)"
   ]
  },
  {
   "cell_type": "code",
   "execution_count": 36,
   "metadata": {},
   "outputs": [
    {
     "data": {
      "text/html": [
       "<div>\n",
       "<style scoped>\n",
       "    .dataframe tbody tr th:only-of-type {\n",
       "        vertical-align: middle;\n",
       "    }\n",
       "\n",
       "    .dataframe tbody tr th {\n",
       "        vertical-align: top;\n",
       "    }\n",
       "\n",
       "    .dataframe thead th {\n",
       "        text-align: right;\n",
       "    }\n",
       "</style>\n",
       "<table border=\"1\" class=\"dataframe\">\n",
       "  <thead>\n",
       "    <tr style=\"text-align: right;\">\n",
       "      <th></th>\n",
       "      <th>description</th>\n",
       "      <th>code</th>\n",
       "    </tr>\n",
       "  </thead>\n",
       "  <tbody>\n",
       "    <tr>\n",
       "      <th>0</th>\n",
       "      <td>Academic Foundations</td>\n",
       "      <td>003</td>\n",
       "    </tr>\n",
       "    <tr>\n",
       "      <th>1</th>\n",
       "      <td>Academic Studies</td>\n",
       "      <td>005</td>\n",
       "    </tr>\n",
       "    <tr>\n",
       "      <th>2</th>\n",
       "      <td>Academic and Student Development</td>\n",
       "      <td>907</td>\n",
       "    </tr>\n",
       "    <tr>\n",
       "      <th>3</th>\n",
       "      <td>Accounting</td>\n",
       "      <td>010</td>\n",
       "    </tr>\n",
       "    <tr>\n",
       "      <th>4</th>\n",
       "      <td>Administration of Justice</td>\n",
       "      <td>012</td>\n",
       "    </tr>\n",
       "    <tr>\n",
       "      <th>...</th>\n",
       "      <td>...</td>\n",
       "      <td>...</td>\n",
       "    </tr>\n",
       "    <tr>\n",
       "      <th>506</th>\n",
       "      <td>Wildlife Conservation</td>\n",
       "      <td>985</td>\n",
       "    </tr>\n",
       "    <tr>\n",
       "      <th>507</th>\n",
       "      <td>Women's, Gender, and Sexuality Studies</td>\n",
       "      <td>988</td>\n",
       "    </tr>\n",
       "    <tr>\n",
       "      <th>508</th>\n",
       "      <td>World Languages</td>\n",
       "      <td>991</td>\n",
       "    </tr>\n",
       "    <tr>\n",
       "      <th>509</th>\n",
       "      <td>Writing</td>\n",
       "      <td>989</td>\n",
       "    </tr>\n",
       "    <tr>\n",
       "      <th>510</th>\n",
       "      <td>Zoology</td>\n",
       "      <td>990</td>\n",
       "    </tr>\n",
       "  </tbody>\n",
       "</table>\n",
       "<p>511 rows × 2 columns</p>\n",
       "</div>"
      ],
      "text/plain": [
       "                                description code\n",
       "0                      Academic Foundations  003\n",
       "1                          Academic Studies  005\n",
       "2          Academic and Student Development  907\n",
       "3                                Accounting  010\n",
       "4                 Administration of Justice  012\n",
       "..                                      ...  ...\n",
       "506                   Wildlife Conservation  985\n",
       "507  Women's, Gender, and Sexuality Studies  988\n",
       "508                         World Languages  991\n",
       "509                                 Writing  989\n",
       "510                                 Zoology  990\n",
       "\n",
       "[511 rows x 2 columns]"
      ]
     },
     "execution_count": 36,
     "metadata": {},
     "output_type": "execute_result"
    }
   ],
   "source": [
    "df"
   ]
  },
  {
   "cell_type": "code",
   "execution_count": 21,
   "metadata": {},
   "outputs": [],
   "source": [
    "from bs4 import BeautifulSoup\n",
    "import requests\n",
    "import time\n",
    "from selenium import webdriver"
   ]
  },
  {
   "cell_type": "code",
   "execution_count": 40,
   "metadata": {},
   "outputs": [],
   "source": [
    "driver = webdriver.Chrome()\n",
    "page = driver.get(\"https://classes.rutgers.edu/soc/#courses?subject=010&semester=12025&campus=NB&level=U\")\n",
    "time.sleep(2)\n",
    "html = driver.page_source\n",
    "\n",
    "soup = BeautifulSoup(html, \"html.parser\")\n",
    "driver.quit()"
   ]
  },
  {
   "cell_type": "code",
   "execution_count": null,
   "metadata": {},
   "outputs": [
    {
     "name": "stdout",
     "output_type": "stream",
     "text": [
      "INTRODUCTION TO FINANCIAL ACCOUNTING 33:010:272 3 credits\n",
      "INTRODUCTION TO MANAGERIAL ACCOUNTING 33:010:275 3 credits\n",
      "INTERMED ACCTNG I 33:010:325 3 credits\n",
      "INTERMED ACCTNG II 33:010:326 3 credits\n",
      "ADVANCED ACCOUNTING 33:010:401 3 credits\n",
      "CONCEPTS OF AUDITING 33:010:415 3 credits\n",
      "AUDIT ANALYTICS 33:010:416 3 credits\n",
      "INCOME TAX ACCOUNTNG 33:010:421 3 credits\n",
      "TPCS INCOME TAXATION 33:010:422 3 credits\n",
      "COST ACCOUNTING 33:010:451 3 credits\n",
      "ACCTNG INFORM SYSTS 33:010:458 3 credits\n",
      "CPA LEVEL FINANCIAL ACCOUNTING AND REPORTING 33:010:475 3 credits\n",
      "HONORS PROJECT ACCTG 33:010:495 3 credits\n"
     ]
    }
   ],
   "source": [
    "all_titles = soup.find_all(class_ = \"courseTitle\")\n",
    "all_ids = soup.find_all(class_ = \"courseId\")\n",
    "all_creds = soup.find_all(class_ = \"courseCredits\")\n",
    "\n",
    "synopsis\n",
    "\n",
    "for title, id, cred in zip(all_titles, all_ids, all_creds):\n",
    "    print(title.text, id.text, cred.text)"
   ]
  }
 ],
 "metadata": {
  "kernelspec": {
   "display_name": "base",
   "language": "python",
   "name": "python3"
  },
  "language_info": {
   "codemirror_mode": {
    "name": "ipython",
    "version": 3
   },
   "file_extension": ".py",
   "mimetype": "text/x-python",
   "name": "python",
   "nbconvert_exporter": "python",
   "pygments_lexer": "ipython3",
   "version": "3.9.19"
  }
 },
 "nbformat": 4,
 "nbformat_minor": 2
}
